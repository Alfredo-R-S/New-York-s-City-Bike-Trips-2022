{
 "cells": [
  {
   "cell_type": "markdown",
   "id": "82623a2d-a1f6-4119-b766-d08e3a7f6a30",
   "metadata": {},
   "source": [
    "# 2.4: Fundamentals of Visualization Libraries Part 2 Task\n",
    "* Import Libraries and Dataframe\n",
    "* Top 20 Starting Stations Frequencies Bar Chart and Theme Selection\n",
    "* Dual-Axis Line Plot\n",
    "* Box plots\n",
    "* FacetGrids"
   ]
  },
  {
   "cell_type": "markdown",
   "id": "4f80582b-1ef8-4d57-8e89-e005daba4bc9",
   "metadata": {},
   "source": [
    "# Import Libraries"
   ]
  },
  {
   "cell_type": "code",
   "execution_count": 3,
   "id": "b28ee2b3-8776-4a54-babe-5382dcb57ac2",
   "metadata": {},
   "outputs": [],
   "source": [
    "# Import Libraries\n",
    "import pandas as pd\n",
    "import matplotlib \n",
    "import numpy as np\n",
    "import seaborn as sns\n",
    "from matplotlib import pyplot as plt\n",
    "from datetime import datetime as dt"
   ]
  },
  {
   "cell_type": "code",
   "execution_count": 4,
   "id": "fcb5780f-b1e9-493f-a823-641592717f2e",
   "metadata": {},
   "outputs": [
    {
     "name": "stderr",
     "output_type": "stream",
     "text": [
      "C:\\Users\\User\\AppData\\Local\\Temp\\ipykernel_2608\\1684658638.py:2: DtypeWarning: Columns (6,8) have mixed types. Specify dtype option on import or set low_memory=False.\n",
      "  df = pd.read_csv('new_york_data.csv', index_col = 0)\n"
     ]
    }
   ],
   "source": [
    "# DataFrame is imported\n",
    "df = pd.read_csv('new_york_data.csv', index_col = 0)"
   ]
  },
  {
   "cell_type": "code",
   "execution_count": 5,
   "id": "faf97d3f-a1b2-4f6b-ad0c-a547dbe59966",
   "metadata": {},
   "outputs": [
    {
     "data": {
      "text/html": [
       "<div>\n",
       "<style scoped>\n",
       "    .dataframe tbody tr th:only-of-type {\n",
       "        vertical-align: middle;\n",
       "    }\n",
       "\n",
       "    .dataframe tbody tr th {\n",
       "        vertical-align: top;\n",
       "    }\n",
       "\n",
       "    .dataframe thead th {\n",
       "        text-align: right;\n",
       "    }\n",
       "</style>\n",
       "<table border=\"1\" class=\"dataframe\">\n",
       "  <thead>\n",
       "    <tr style=\"text-align: right;\">\n",
       "      <th></th>\n",
       "      <th>ride_id</th>\n",
       "      <th>rideable_type</th>\n",
       "      <th>started_at</th>\n",
       "      <th>ended_at</th>\n",
       "      <th>start_station_name</th>\n",
       "      <th>start_station_id</th>\n",
       "      <th>end_station_name</th>\n",
       "      <th>end_station_id</th>\n",
       "      <th>start_lat</th>\n",
       "      <th>start_lng</th>\n",
       "      <th>end_lat</th>\n",
       "      <th>end_lng</th>\n",
       "      <th>member_casual</th>\n",
       "      <th>date</th>\n",
       "      <th>avgTemp</th>\n",
       "      <th>_merge</th>\n",
       "    </tr>\n",
       "  </thead>\n",
       "  <tbody>\n",
       "    <tr>\n",
       "      <th>0</th>\n",
       "      <td>BFD29218AB271154</td>\n",
       "      <td>electric_bike</td>\n",
       "      <td>2022-01-21 13:13:43.392</td>\n",
       "      <td>2022-01-21 13:22:31.463</td>\n",
       "      <td>West End Ave &amp; W 107 St</td>\n",
       "      <td>7650.05</td>\n",
       "      <td>Mt Morris Park W &amp; W 120 St</td>\n",
       "      <td>7685.14</td>\n",
       "      <td>40.802117</td>\n",
       "      <td>-73.968181</td>\n",
       "      <td>40.804038</td>\n",
       "      <td>-73.945925</td>\n",
       "      <td>member</td>\n",
       "      <td>2022-01-21</td>\n",
       "      <td>-6.0</td>\n",
       "      <td>both</td>\n",
       "    </tr>\n",
       "    <tr>\n",
       "      <th>1</th>\n",
       "      <td>7C953F2FD7BE1302</td>\n",
       "      <td>classic_bike</td>\n",
       "      <td>2022-01-10 11:30:54.162</td>\n",
       "      <td>2022-01-10 11:41:43.422</td>\n",
       "      <td>4 Ave &amp; 3 St</td>\n",
       "      <td>4028.04</td>\n",
       "      <td>Boerum Pl\\t&amp; Pacific St</td>\n",
       "      <td>4488.09</td>\n",
       "      <td>40.673746</td>\n",
       "      <td>-73.985649</td>\n",
       "      <td>40.688489</td>\n",
       "      <td>-73.991160</td>\n",
       "      <td>member</td>\n",
       "      <td>2022-01-10</td>\n",
       "      <td>1.6</td>\n",
       "      <td>both</td>\n",
       "    </tr>\n",
       "    <tr>\n",
       "      <th>2</th>\n",
       "      <td>95893ABD40CED4B8</td>\n",
       "      <td>electric_bike</td>\n",
       "      <td>2022-01-26 10:52:43.096</td>\n",
       "      <td>2022-01-26 11:06:35.227</td>\n",
       "      <td>1 Ave &amp; E 62 St</td>\n",
       "      <td>6753.08</td>\n",
       "      <td>5 Ave &amp; E 29 St</td>\n",
       "      <td>6248.06</td>\n",
       "      <td>40.761227</td>\n",
       "      <td>-73.960940</td>\n",
       "      <td>40.745168</td>\n",
       "      <td>-73.986831</td>\n",
       "      <td>member</td>\n",
       "      <td>2022-01-26</td>\n",
       "      <td>-2.3</td>\n",
       "      <td>both</td>\n",
       "    </tr>\n",
       "    <tr>\n",
       "      <th>3</th>\n",
       "      <td>F853B50772137378</td>\n",
       "      <td>classic_bike</td>\n",
       "      <td>2022-01-03 08:35:48.247</td>\n",
       "      <td>2022-01-03 09:10:50.475</td>\n",
       "      <td>2 Ave &amp; E 96 St</td>\n",
       "      <td>7338.02</td>\n",
       "      <td>5 Ave &amp; E 29 St</td>\n",
       "      <td>6248.06</td>\n",
       "      <td>40.783964</td>\n",
       "      <td>-73.947167</td>\n",
       "      <td>40.745168</td>\n",
       "      <td>-73.986831</td>\n",
       "      <td>member</td>\n",
       "      <td>2022-01-03</td>\n",
       "      <td>1.4</td>\n",
       "      <td>both</td>\n",
       "    </tr>\n",
       "    <tr>\n",
       "      <th>4</th>\n",
       "      <td>7590ADF834797B4B</td>\n",
       "      <td>classic_bike</td>\n",
       "      <td>2022-01-22 14:14:23.043</td>\n",
       "      <td>2022-01-22 14:34:57.474</td>\n",
       "      <td>6 Ave &amp; W 34 St</td>\n",
       "      <td>6364.1</td>\n",
       "      <td>5 Ave &amp; E 29 St</td>\n",
       "      <td>6248.06</td>\n",
       "      <td>40.749640</td>\n",
       "      <td>-73.988050</td>\n",
       "      <td>40.745168</td>\n",
       "      <td>-73.986831</td>\n",
       "      <td>member</td>\n",
       "      <td>2022-01-22</td>\n",
       "      <td>-5.9</td>\n",
       "      <td>both</td>\n",
       "    </tr>\n",
       "  </tbody>\n",
       "</table>\n",
       "</div>"
      ],
      "text/plain": [
       "            ride_id  rideable_type               started_at  \\\n",
       "0  BFD29218AB271154  electric_bike  2022-01-21 13:13:43.392   \n",
       "1  7C953F2FD7BE1302   classic_bike  2022-01-10 11:30:54.162   \n",
       "2  95893ABD40CED4B8  electric_bike  2022-01-26 10:52:43.096   \n",
       "3  F853B50772137378   classic_bike  2022-01-03 08:35:48.247   \n",
       "4  7590ADF834797B4B   classic_bike  2022-01-22 14:14:23.043   \n",
       "\n",
       "                  ended_at       start_station_name start_station_id  \\\n",
       "0  2022-01-21 13:22:31.463  West End Ave & W 107 St          7650.05   \n",
       "1  2022-01-10 11:41:43.422             4 Ave & 3 St          4028.04   \n",
       "2  2022-01-26 11:06:35.227          1 Ave & E 62 St          6753.08   \n",
       "3  2022-01-03 09:10:50.475          2 Ave & E 96 St          7338.02   \n",
       "4  2022-01-22 14:34:57.474          6 Ave & W 34 St           6364.1   \n",
       "\n",
       "              end_station_name end_station_id  start_lat  start_lng  \\\n",
       "0  Mt Morris Park W & W 120 St        7685.14  40.802117 -73.968181   \n",
       "1      Boerum Pl\\t& Pacific St        4488.09  40.673746 -73.985649   \n",
       "2              5 Ave & E 29 St        6248.06  40.761227 -73.960940   \n",
       "3              5 Ave & E 29 St        6248.06  40.783964 -73.947167   \n",
       "4              5 Ave & E 29 St        6248.06  40.749640 -73.988050   \n",
       "\n",
       "     end_lat    end_lng member_casual        date  avgTemp _merge  \n",
       "0  40.804038 -73.945925        member  2022-01-21     -6.0   both  \n",
       "1  40.688489 -73.991160        member  2022-01-10      1.6   both  \n",
       "2  40.745168 -73.986831        member  2022-01-26     -2.3   both  \n",
       "3  40.745168 -73.986831        member  2022-01-03      1.4   both  \n",
       "4  40.745168 -73.986831        member  2022-01-22     -5.9   both  "
      ]
     },
     "execution_count": 5,
     "metadata": {},
     "output_type": "execute_result"
    }
   ],
   "source": [
    "df.head()"
   ]
  },
  {
   "cell_type": "code",
   "execution_count": 6,
   "id": "677a4382-20ee-490d-a080-77f4911b7f82",
   "metadata": {},
   "outputs": [
    {
     "data": {
      "text/plain": [
       "(12000000, 16)"
      ]
     },
     "execution_count": 6,
     "metadata": {},
     "output_type": "execute_result"
    }
   ],
   "source": [
    "df.shape"
   ]
  },
  {
   "cell_type": "code",
   "execution_count": 7,
   "id": "3bb06eed-e357-4e21-9413-ced78673fb25",
   "metadata": {},
   "outputs": [
    {
     "data": {
      "text/plain": [
       "Index(['ride_id', 'rideable_type', 'started_at', 'ended_at',\n",
       "       'start_station_name', 'start_station_id', 'end_station_name',\n",
       "       'end_station_id', 'start_lat', 'start_lng', 'end_lat', 'end_lng',\n",
       "       'member_casual', 'date', 'avgTemp', '_merge'],\n",
       "      dtype='object')"
      ]
     },
     "execution_count": 7,
     "metadata": {},
     "output_type": "execute_result"
    }
   ],
   "source": [
    "# A general overview of the DataFrame colums is performed \n",
    "df.columns"
   ]
  },
  {
   "cell_type": "code",
   "execution_count": 8,
   "id": "5b59a6e2-cdee-45d6-bd5b-dd8a39cc0eed",
   "metadata": {},
   "outputs": [
    {
     "data": {
      "text/plain": [
       "ride_id                object\n",
       "rideable_type          object\n",
       "started_at             object\n",
       "ended_at               object\n",
       "start_station_name     object\n",
       "start_station_id       object\n",
       "end_station_name       object\n",
       "end_station_id         object\n",
       "start_lat             float64\n",
       "start_lng             float64\n",
       "end_lat               float64\n",
       "end_lng               float64\n",
       "member_casual          object\n",
       "date                   object\n",
       "avgTemp               float64\n",
       "_merge                 object\n",
       "dtype: object"
      ]
     },
     "execution_count": 8,
     "metadata": {},
     "output_type": "execute_result"
    }
   ],
   "source": [
    "# A revision for the data type.\n",
    "df.dtypes"
   ]
  },
  {
   "cell_type": "markdown",
   "id": "ec921025-ce93-4074-8f4b-63bc62e4d804",
   "metadata": {},
   "source": [
    "# Top 20 Starting Stations Frequencies Bar Chart and Theme Selection"
   ]
  },
  {
   "cell_type": "code",
   "execution_count": 10,
   "id": "bd475ebd-0b8b-4e68-80ab-1c5999da2d30",
   "metadata": {},
   "outputs": [],
   "source": [
    "df['value'] = 1\n",
    "df_t = df.groupby('start_station_name')['value'].count().reset_index()"
   ]
  },
  {
   "cell_type": "code",
   "execution_count": 11,
   "id": "94eee68d-fbf8-41a1-ac4d-b74fec287ceb",
   "metadata": {},
   "outputs": [
    {
     "data": {
      "text/html": [
       "<div>\n",
       "<style scoped>\n",
       "    .dataframe tbody tr th:only-of-type {\n",
       "        vertical-align: middle;\n",
       "    }\n",
       "\n",
       "    .dataframe tbody tr th {\n",
       "        vertical-align: top;\n",
       "    }\n",
       "\n",
       "    .dataframe thead th {\n",
       "        text-align: right;\n",
       "    }\n",
       "</style>\n",
       "<table border=\"1\" class=\"dataframe\">\n",
       "  <thead>\n",
       "    <tr style=\"text-align: right;\">\n",
       "      <th></th>\n",
       "      <th>start_station_name</th>\n",
       "      <th>value</th>\n",
       "    </tr>\n",
       "  </thead>\n",
       "  <tbody>\n",
       "    <tr>\n",
       "      <th>1587</th>\n",
       "      <td>W 21 St &amp; 6 Ave</td>\n",
       "      <td>52629</td>\n",
       "    </tr>\n",
       "    <tr>\n",
       "      <th>8</th>\n",
       "      <td>1 Ave &amp; E 68 St</td>\n",
       "      <td>48603</td>\n",
       "    </tr>\n",
       "    <tr>\n",
       "      <th>495</th>\n",
       "      <td>Broadway &amp; W 58 St</td>\n",
       "      <td>45270</td>\n",
       "    </tr>\n",
       "    <tr>\n",
       "      <th>1718</th>\n",
       "      <td>West St &amp; Chambers St</td>\n",
       "      <td>44562</td>\n",
       "    </tr>\n",
       "    <tr>\n",
       "      <th>286</th>\n",
       "      <td>6 Ave &amp; W 33 St</td>\n",
       "      <td>41279</td>\n",
       "    </tr>\n",
       "    <tr>\n",
       "      <th>1511</th>\n",
       "      <td>University Pl &amp; E 14 St</td>\n",
       "      <td>39656</td>\n",
       "    </tr>\n",
       "    <tr>\n",
       "      <th>788</th>\n",
       "      <td>E 33 St &amp; 1 Ave</td>\n",
       "      <td>38674</td>\n",
       "    </tr>\n",
       "    <tr>\n",
       "      <th>463</th>\n",
       "      <td>Broadway &amp; E 21 St</td>\n",
       "      <td>38310</td>\n",
       "    </tr>\n",
       "    <tr>\n",
       "      <th>461</th>\n",
       "      <td>Broadway &amp; E 14 St</td>\n",
       "      <td>38197</td>\n",
       "    </tr>\n",
       "    <tr>\n",
       "      <th>485</th>\n",
       "      <td>Broadway &amp; W 25 St</td>\n",
       "      <td>37979</td>\n",
       "    </tr>\n",
       "    <tr>\n",
       "      <th>1603</th>\n",
       "      <td>W 31 St &amp; 7 Ave</td>\n",
       "      <td>36361</td>\n",
       "    </tr>\n",
       "    <tr>\n",
       "      <th>965</th>\n",
       "      <td>Grand Army Plaza &amp; Central Park S</td>\n",
       "      <td>34800</td>\n",
       "    </tr>\n",
       "    <tr>\n",
       "      <th>328</th>\n",
       "      <td>8 Ave &amp; W 33 St</td>\n",
       "      <td>34544</td>\n",
       "    </tr>\n",
       "    <tr>\n",
       "      <th>796</th>\n",
       "      <td>E 40 St &amp; Park Ave</td>\n",
       "      <td>33848</td>\n",
       "    </tr>\n",
       "    <tr>\n",
       "      <th>590</th>\n",
       "      <td>Cleveland Pl &amp; Spring St</td>\n",
       "      <td>33825</td>\n",
       "    </tr>\n",
       "    <tr>\n",
       "      <th>337</th>\n",
       "      <td>9 Ave &amp; W 22 St</td>\n",
       "      <td>33568</td>\n",
       "    </tr>\n",
       "    <tr>\n",
       "      <th>24</th>\n",
       "      <td>11 Ave &amp; W 41 St</td>\n",
       "      <td>33350</td>\n",
       "    </tr>\n",
       "    <tr>\n",
       "      <th>1105</th>\n",
       "      <td>Lafayette St &amp; E 8 St</td>\n",
       "      <td>33234</td>\n",
       "    </tr>\n",
       "    <tr>\n",
       "      <th>287</th>\n",
       "      <td>6 Ave &amp; W 34 St</td>\n",
       "      <td>32878</td>\n",
       "    </tr>\n",
       "    <tr>\n",
       "      <th>1624</th>\n",
       "      <td>W 41 St &amp; 8 Ave</td>\n",
       "      <td>32741</td>\n",
       "    </tr>\n",
       "  </tbody>\n",
       "</table>\n",
       "</div>"
      ],
      "text/plain": [
       "                     start_station_name  value\n",
       "1587                    W 21 St & 6 Ave  52629\n",
       "8                       1 Ave & E 68 St  48603\n",
       "495                  Broadway & W 58 St  45270\n",
       "1718              West St & Chambers St  44562\n",
       "286                     6 Ave & W 33 St  41279\n",
       "1511            University Pl & E 14 St  39656\n",
       "788                     E 33 St & 1 Ave  38674\n",
       "463                  Broadway & E 21 St  38310\n",
       "461                  Broadway & E 14 St  38197\n",
       "485                  Broadway & W 25 St  37979\n",
       "1603                    W 31 St & 7 Ave  36361\n",
       "965   Grand Army Plaza & Central Park S  34800\n",
       "328                     8 Ave & W 33 St  34544\n",
       "796                  E 40 St & Park Ave  33848\n",
       "590            Cleveland Pl & Spring St  33825\n",
       "337                     9 Ave & W 22 St  33568\n",
       "24                     11 Ave & W 41 St  33350\n",
       "1105              Lafayette St & E 8 St  33234\n",
       "287                     6 Ave & W 34 St  32878\n",
       "1624                    W 41 St & 8 Ave  32741"
      ]
     },
     "execution_count": 11,
     "metadata": {},
     "output_type": "execute_result"
    }
   ],
   "source": [
    "top20 = df_t.nlargest(20, 'value')\n",
    "top20"
   ]
  },
  {
   "cell_type": "code",
   "execution_count": 12,
   "id": "aadb228c-ba21-4a1f-952f-b547b2824265",
   "metadata": {},
   "outputs": [
    {
     "data": {
      "image/png": "[encoded data removed]",
      "text/plain": [
       "<Figure size 640x480 with 1 Axes>"
      ]
     },
     "metadata": {},
     "output_type": "display_data"
    }
   ],
   "source": [
    "# Top 20 BarPlot\n",
    "sns.barplot(data = top20, x = 'value', y = 'start_station_name')\n",
    "plt.title(\"Most Frequent Start Stations\")\n",
    "plt.show()"
   ]
  },
  {
   "cell_type": "markdown",
   "id": "51773706-acad-4e71-8f6e-4d067c1c5d1f",
   "metadata": {},
   "source": [
    "# Dual-Axis Line Plot"
   ]
  },
  {
   "cell_type": "code",
   "execution_count": 14,
   "id": "6146b8bc-8349-4309-9472-99ad5b1f3fe0",
   "metadata": {},
   "outputs": [
    {
     "data": {
      "text/plain": [
       "(12000000, 17)"
      ]
     },
     "execution_count": 14,
     "metadata": {},
     "output_type": "execute_result"
    }
   ],
   "source": [
    "df.shape"
   ]
  },
  {
   "cell_type": "code",
   "execution_count": 15,
   "id": "d929b6b3-bdb0-479f-bed1-c88e7ef9d668",
   "metadata": {},
   "outputs": [],
   "source": [
    "df = df.dropna(subset=['avgTemp'])"
   ]
  },
  {
   "cell_type": "code",
   "execution_count": 16,
   "id": "fd5eb137-f313-4a49-a8f4-0b846f2fbc9e",
   "metadata": {},
   "outputs": [],
   "source": [
    "# The column _merge will be droped as it's of no use.\n",
    "df.drop(columns = {'_merge'}, inplace = True)"
   ]
  },
  {
   "cell_type": "code",
   "execution_count": 17,
   "id": "b6f24e46-503a-4dce-b7e2-ef341eadec66",
   "metadata": {},
   "outputs": [
    {
     "data": {
      "text/plain": [
       "(11999379, 16)"
      ]
     },
     "execution_count": 17,
     "metadata": {},
     "output_type": "execute_result"
    }
   ],
   "source": [
    "df.shape"
   ]
  },
  {
   "cell_type": "code",
   "execution_count": 18,
   "id": "197cae6b-e8ae-4db9-9cd0-09dd2681337a",
   "metadata": {},
   "outputs": [
    {
     "data": {
      "text/plain": [
       "ride_id                object\n",
       "rideable_type          object\n",
       "started_at             object\n",
       "ended_at               object\n",
       "start_station_name     object\n",
       "start_station_id       object\n",
       "end_station_name       object\n",
       "end_station_id         object\n",
       "start_lat             float64\n",
       "start_lng             float64\n",
       "end_lat               float64\n",
       "end_lng               float64\n",
       "member_casual          object\n",
       "date                   object\n",
       "avgTemp               float64\n",
       "value                   int64\n",
       "dtype: object"
      ]
     },
     "execution_count": 18,
     "metadata": {},
     "output_type": "execute_result"
    }
   ],
   "source": [
    "# We can observe that the Date column is anf object type\n",
    "df.dtypes"
   ]
  },
  {
   "cell_type": "code",
   "execution_count": 19,
   "id": "524f6e18-6c9d-436e-b10e-45cdec93ea38",
   "metadata": {},
   "outputs": [],
   "source": [
    "# The data type for the column 'date' is transformed into a date type format\n",
    "df['date'] = pd.to_datetime(df['date'])"
   ]
  },
  {
   "cell_type": "code",
   "execution_count": 20,
   "id": "a622ec8d-d807-42cf-9775-07386127b418",
   "metadata": {},
   "outputs": [
    {
     "data": {
      "text/plain": [
       "ride_id                       object\n",
       "rideable_type                 object\n",
       "started_at                    object\n",
       "ended_at                      object\n",
       "start_station_name            object\n",
       "start_station_id              object\n",
       "end_station_name              object\n",
       "end_station_id                object\n",
       "start_lat                    float64\n",
       "start_lng                    float64\n",
       "end_lat                      float64\n",
       "end_lng                      float64\n",
       "member_casual                 object\n",
       "date                  datetime64[ns]\n",
       "avgTemp                      float64\n",
       "value                          int64\n",
       "dtype: object"
      ]
     },
     "execution_count": 20,
     "metadata": {},
     "output_type": "execute_result"
    }
   ],
   "source": [
    "# A revision for the new data type.\n",
    "df.dtypes"
   ]
  },
  {
   "cell_type": "code",
   "execution_count": 21,
   "id": "68ce957b-2b16-46ab-b19b-8400dd73f530",
   "metadata": {},
   "outputs": [
    {
     "data": {
      "text/html": [
       "<div>\n",
       "<style scoped>\n",
       "    .dataframe tbody tr th:only-of-type {\n",
       "        vertical-align: middle;\n",
       "    }\n",
       "\n",
       "    .dataframe tbody tr th {\n",
       "        vertical-align: top;\n",
       "    }\n",
       "\n",
       "    .dataframe thead th {\n",
       "        text-align: right;\n",
       "    }\n",
       "</style>\n",
       "<table border=\"1\" class=\"dataframe\">\n",
       "  <thead>\n",
       "    <tr style=\"text-align: right;\">\n",
       "      <th></th>\n",
       "      <th>ride_id</th>\n",
       "      <th>rideable_type</th>\n",
       "      <th>started_at</th>\n",
       "      <th>ended_at</th>\n",
       "      <th>start_station_name</th>\n",
       "      <th>start_station_id</th>\n",
       "      <th>end_station_name</th>\n",
       "      <th>end_station_id</th>\n",
       "      <th>start_lat</th>\n",
       "      <th>start_lng</th>\n",
       "      <th>end_lat</th>\n",
       "      <th>end_lng</th>\n",
       "      <th>member_casual</th>\n",
       "      <th>date</th>\n",
       "      <th>avgTemp</th>\n",
       "      <th>value</th>\n",
       "    </tr>\n",
       "  </thead>\n",
       "  <tbody>\n",
       "    <tr>\n",
       "      <th>321985</th>\n",
       "      <td>0044426DB3E6941C</td>\n",
       "      <td>classic_bike</td>\n",
       "      <td>2022-01-01 12:01:54.015</td>\n",
       "      <td>2022-01-01 12:11:58.322</td>\n",
       "      <td>E 33 St &amp; 1 Ave</td>\n",
       "      <td>6197.08</td>\n",
       "      <td>E 33 St &amp; 1 Ave</td>\n",
       "      <td>6197.08</td>\n",
       "      <td>40.743227</td>\n",
       "      <td>-73.974498</td>\n",
       "      <td>40.743227</td>\n",
       "      <td>-73.974498</td>\n",
       "      <td>member</td>\n",
       "      <td>2022-01-01</td>\n",
       "      <td>11.6</td>\n",
       "      <td>1</td>\n",
       "    </tr>\n",
       "    <tr>\n",
       "      <th>239146</th>\n",
       "      <td>7E230F94AD0041EB</td>\n",
       "      <td>classic_bike</td>\n",
       "      <td>2022-01-01 01:41:23.320</td>\n",
       "      <td>2022-01-01 01:46:04.352</td>\n",
       "      <td>W 21 St &amp; 6 Ave</td>\n",
       "      <td>6140.05</td>\n",
       "      <td>Hudson St &amp; W 13 St</td>\n",
       "      <td>6115.06</td>\n",
       "      <td>40.741740</td>\n",
       "      <td>-73.994156</td>\n",
       "      <td>40.740057</td>\n",
       "      <td>-74.005274</td>\n",
       "      <td>casual</td>\n",
       "      <td>2022-01-01</td>\n",
       "      <td>11.6</td>\n",
       "      <td>1</td>\n",
       "    </tr>\n",
       "    <tr>\n",
       "      <th>863849</th>\n",
       "      <td>8CDC7F9907659E52</td>\n",
       "      <td>electric_bike</td>\n",
       "      <td>2022-01-01 12:27:31.630</td>\n",
       "      <td>2022-01-01 12:51:11.008</td>\n",
       "      <td>Douglass St &amp; 4 Ave</td>\n",
       "      <td>4175.14</td>\n",
       "      <td>Grand St &amp; Greene St</td>\n",
       "      <td>5500.02</td>\n",
       "      <td>40.679279</td>\n",
       "      <td>-73.981540</td>\n",
       "      <td>40.721700</td>\n",
       "      <td>-74.002381</td>\n",
       "      <td>member</td>\n",
       "      <td>2022-01-01</td>\n",
       "      <td>11.6</td>\n",
       "      <td>1</td>\n",
       "    </tr>\n",
       "    <tr>\n",
       "      <th>965701</th>\n",
       "      <td>33CB3D136A21930F</td>\n",
       "      <td>classic_bike</td>\n",
       "      <td>2022-01-01 01:01:31.835</td>\n",
       "      <td>2022-01-01 01:36:02.221</td>\n",
       "      <td>Carmine St &amp; 6 Ave</td>\n",
       "      <td>5763.03</td>\n",
       "      <td>Meserole Ave &amp; Manhattan Ave</td>\n",
       "      <td>5666.04</td>\n",
       "      <td>40.730386</td>\n",
       "      <td>-74.002150</td>\n",
       "      <td>40.727086</td>\n",
       "      <td>-73.952991</td>\n",
       "      <td>member</td>\n",
       "      <td>2022-01-01</td>\n",
       "      <td>11.6</td>\n",
       "      <td>1</td>\n",
       "    </tr>\n",
       "    <tr>\n",
       "      <th>239142</th>\n",
       "      <td>5DCB2C1D6AE236A2</td>\n",
       "      <td>electric_bike</td>\n",
       "      <td>2022-01-01 02:01:53.603</td>\n",
       "      <td>2022-01-01 02:15:09.266</td>\n",
       "      <td>South St &amp; Whitehall St</td>\n",
       "      <td>4846.01</td>\n",
       "      <td>Grand St &amp; Elizabeth St</td>\n",
       "      <td>5382.06</td>\n",
       "      <td>40.701221</td>\n",
       "      <td>-74.012342</td>\n",
       "      <td>40.718822</td>\n",
       "      <td>-73.995960</td>\n",
       "      <td>casual</td>\n",
       "      <td>2022-01-01</td>\n",
       "      <td>11.6</td>\n",
       "      <td>1</td>\n",
       "    </tr>\n",
       "    <tr>\n",
       "      <th>...</th>\n",
       "      <td>...</td>\n",
       "      <td>...</td>\n",
       "      <td>...</td>\n",
       "      <td>...</td>\n",
       "      <td>...</td>\n",
       "      <td>...</td>\n",
       "      <td>...</td>\n",
       "      <td>...</td>\n",
       "      <td>...</td>\n",
       "      <td>...</td>\n",
       "      <td>...</td>\n",
       "      <td>...</td>\n",
       "      <td>...</td>\n",
       "      <td>...</td>\n",
       "      <td>...</td>\n",
       "      <td>...</td>\n",
       "    </tr>\n",
       "    <tr>\n",
       "      <th>11786222</th>\n",
       "      <td>1922D7D70AD2A9F3</td>\n",
       "      <td>electric_bike</td>\n",
       "      <td>2022-12-31 15:12:21.416</td>\n",
       "      <td>2022-12-31 15:28:07.558</td>\n",
       "      <td>Broadway &amp; W 131 St</td>\n",
       "      <td>7865.09</td>\n",
       "      <td>Pleasant Ave &amp; E 120 St</td>\n",
       "      <td>7579.01</td>\n",
       "      <td>40.817422</td>\n",
       "      <td>-73.957194</td>\n",
       "      <td>40.797477</td>\n",
       "      <td>-73.931185</td>\n",
       "      <td>member</td>\n",
       "      <td>2022-12-31</td>\n",
       "      <td>8.2</td>\n",
       "      <td>1</td>\n",
       "    </tr>\n",
       "    <tr>\n",
       "      <th>11637000</th>\n",
       "      <td>67DE471A6C5B88C4</td>\n",
       "      <td>electric_bike</td>\n",
       "      <td>2022-12-31 15:01:57.968</td>\n",
       "      <td>2022-12-31 15:19:26.381</td>\n",
       "      <td>W 63 St &amp; Broadway</td>\n",
       "      <td>7052.01</td>\n",
       "      <td>1 Ave &amp; E 78 St</td>\n",
       "      <td>7020.09</td>\n",
       "      <td>40.771530</td>\n",
       "      <td>-73.982534</td>\n",
       "      <td>40.771404</td>\n",
       "      <td>-73.953517</td>\n",
       "      <td>member</td>\n",
       "      <td>2022-12-31</td>\n",
       "      <td>8.2</td>\n",
       "      <td>1</td>\n",
       "    </tr>\n",
       "    <tr>\n",
       "      <th>11436718</th>\n",
       "      <td>585B08BC27F740D1</td>\n",
       "      <td>classic_bike</td>\n",
       "      <td>2022-12-31 18:27:58.355</td>\n",
       "      <td>2022-12-31 18:32:42.723</td>\n",
       "      <td>South St &amp; Pike St</td>\n",
       "      <td>5159.07</td>\n",
       "      <td>Division St &amp; Bowery</td>\n",
       "      <td>5270.08</td>\n",
       "      <td>40.709918</td>\n",
       "      <td>-73.991611</td>\n",
       "      <td>40.714193</td>\n",
       "      <td>-73.996732</td>\n",
       "      <td>member</td>\n",
       "      <td>2022-12-31</td>\n",
       "      <td>8.2</td>\n",
       "      <td>1</td>\n",
       "    </tr>\n",
       "    <tr>\n",
       "      <th>11982564</th>\n",
       "      <td>045A8EADBD3A84DC</td>\n",
       "      <td>classic_bike</td>\n",
       "      <td>2022-12-31 14:37:36.219</td>\n",
       "      <td>2022-12-31 14:58:28.489</td>\n",
       "      <td>Centre St &amp; Chambers St</td>\n",
       "      <td>5207.01</td>\n",
       "      <td>Pearl St &amp; York St</td>\n",
       "      <td>4895.15</td>\n",
       "      <td>40.712733</td>\n",
       "      <td>-74.004607</td>\n",
       "      <td>40.701405</td>\n",
       "      <td>-73.987680</td>\n",
       "      <td>casual</td>\n",
       "      <td>2022-12-31</td>\n",
       "      <td>8.2</td>\n",
       "      <td>1</td>\n",
       "    </tr>\n",
       "    <tr>\n",
       "      <th>11954862</th>\n",
       "      <td>247DD10F1D1A5DEF</td>\n",
       "      <td>electric_bike</td>\n",
       "      <td>2022-12-31 00:57:11.839</td>\n",
       "      <td>2022-12-31 01:02:39.088</td>\n",
       "      <td>Ocean Pkwy &amp; Church Ave</td>\n",
       "      <td>3125.09</td>\n",
       "      <td>12 Ave &amp; 36 St</td>\n",
       "      <td>3056.05</td>\n",
       "      <td>40.644658</td>\n",
       "      <td>-73.974608</td>\n",
       "      <td>40.643546</td>\n",
       "      <td>-73.986418</td>\n",
       "      <td>casual</td>\n",
       "      <td>2022-12-31</td>\n",
       "      <td>8.2</td>\n",
       "      <td>1</td>\n",
       "    </tr>\n",
       "  </tbody>\n",
       "</table>\n",
       "<p>11999379 rows × 16 columns</p>\n",
       "</div>"
      ],
      "text/plain": [
       "                   ride_id  rideable_type               started_at  \\\n",
       "321985    0044426DB3E6941C   classic_bike  2022-01-01 12:01:54.015   \n",
       "239146    7E230F94AD0041EB   classic_bike  2022-01-01 01:41:23.320   \n",
       "863849    8CDC7F9907659E52  electric_bike  2022-01-01 12:27:31.630   \n",
       "965701    33CB3D136A21930F   classic_bike  2022-01-01 01:01:31.835   \n",
       "239142    5DCB2C1D6AE236A2  electric_bike  2022-01-01 02:01:53.603   \n",
       "...                    ...            ...                      ...   \n",
       "11786222  1922D7D70AD2A9F3  electric_bike  2022-12-31 15:12:21.416   \n",
       "11637000  67DE471A6C5B88C4  electric_bike  2022-12-31 15:01:57.968   \n",
       "11436718  585B08BC27F740D1   classic_bike  2022-12-31 18:27:58.355   \n",
       "11982564  045A8EADBD3A84DC   classic_bike  2022-12-31 14:37:36.219   \n",
       "11954862  247DD10F1D1A5DEF  electric_bike  2022-12-31 00:57:11.839   \n",
       "\n",
       "                         ended_at       start_station_name start_station_id  \\\n",
       "321985    2022-01-01 12:11:58.322          E 33 St & 1 Ave          6197.08   \n",
       "239146    2022-01-01 01:46:04.352          W 21 St & 6 Ave          6140.05   \n",
       "863849    2022-01-01 12:51:11.008      Douglass St & 4 Ave          4175.14   \n",
       "965701    2022-01-01 01:36:02.221       Carmine St & 6 Ave          5763.03   \n",
       "239142    2022-01-01 02:15:09.266  South St & Whitehall St          4846.01   \n",
       "...                           ...                      ...              ...   \n",
       "11786222  2022-12-31 15:28:07.558      Broadway & W 131 St          7865.09   \n",
       "11637000  2022-12-31 15:19:26.381       W 63 St & Broadway          7052.01   \n",
       "11436718  2022-12-31 18:32:42.723       South St & Pike St          5159.07   \n",
       "11982564  2022-12-31 14:58:28.489  Centre St & Chambers St          5207.01   \n",
       "11954862  2022-12-31 01:02:39.088  Ocean Pkwy & Church Ave          3125.09   \n",
       "\n",
       "                      end_station_name end_station_id  start_lat  start_lng  \\\n",
       "321985                 E 33 St & 1 Ave        6197.08  40.743227 -73.974498   \n",
       "239146             Hudson St & W 13 St        6115.06  40.741740 -73.994156   \n",
       "863849            Grand St & Greene St        5500.02  40.679279 -73.981540   \n",
       "965701    Meserole Ave & Manhattan Ave        5666.04  40.730386 -74.002150   \n",
       "239142         Grand St & Elizabeth St        5382.06  40.701221 -74.012342   \n",
       "...                                ...            ...        ...        ...   \n",
       "11786222       Pleasant Ave & E 120 St        7579.01  40.817422 -73.957194   \n",
       "11637000               1 Ave & E 78 St        7020.09  40.771530 -73.982534   \n",
       "11436718          Division St & Bowery        5270.08  40.709918 -73.991611   \n",
       "11982564            Pearl St & York St        4895.15  40.712733 -74.004607   \n",
       "11954862                12 Ave & 36 St        3056.05  40.644658 -73.974608   \n",
       "\n",
       "            end_lat    end_lng member_casual       date  avgTemp  value  \n",
       "321985    40.743227 -73.974498        member 2022-01-01     11.6      1  \n",
       "239146    40.740057 -74.005274        casual 2022-01-01     11.6      1  \n",
       "863849    40.721700 -74.002381        member 2022-01-01     11.6      1  \n",
       "965701    40.727086 -73.952991        member 2022-01-01     11.6      1  \n",
       "239142    40.718822 -73.995960        casual 2022-01-01     11.6      1  \n",
       "...             ...        ...           ...        ...      ...    ...  \n",
       "11786222  40.797477 -73.931185        member 2022-12-31      8.2      1  \n",
       "11637000  40.771404 -73.953517        member 2022-12-31      8.2      1  \n",
       "11436718  40.714193 -73.996732        member 2022-12-31      8.2      1  \n",
       "11982564  40.701405 -73.987680        casual 2022-12-31      8.2      1  \n",
       "11954862  40.643546 -73.986418        casual 2022-12-31      8.2      1  \n",
       "\n",
       "[11999379 rows x 16 columns]"
      ]
     },
     "execution_count": 21,
     "metadata": {},
     "output_type": "execute_result"
    }
   ],
   "source": [
    "df.sort_values(by='date')"
   ]
  },
  {
   "cell_type": "code",
   "execution_count": 22,
   "id": "93484afd-e3ae-4379-8b4b-a0c0dd79f777",
   "metadata": {},
   "outputs": [],
   "source": [
    "# Groupby the count of the trips \n",
    "\n",
    "df_group = pd.DataFrame(df.groupby(['date'])['ride_id'].count()).reset_index()"
   ]
  },
  {
   "cell_type": "code",
   "execution_count": 23,
   "id": "54668385-9601-4fdc-a90b-6c4c294d8253",
   "metadata": {},
   "outputs": [
    {
     "data": {
      "text/html": [
       "<div>\n",
       "<style scoped>\n",
       "    .dataframe tbody tr th:only-of-type {\n",
       "        vertical-align: middle;\n",
       "    }\n",
       "\n",
       "    .dataframe tbody tr th {\n",
       "        vertical-align: top;\n",
       "    }\n",
       "\n",
       "    .dataframe thead th {\n",
       "        text-align: right;\n",
       "    }\n",
       "</style>\n",
       "<table border=\"1\" class=\"dataframe\">\n",
       "  <thead>\n",
       "    <tr style=\"text-align: right;\">\n",
       "      <th></th>\n",
       "      <th>date</th>\n",
       "      <th>ride_id</th>\n",
       "    </tr>\n",
       "  </thead>\n",
       "  <tbody>\n",
       "    <tr>\n",
       "      <th>0</th>\n",
       "      <td>2022-01-01</td>\n",
       "      <td>19905</td>\n",
       "    </tr>\n",
       "    <tr>\n",
       "      <th>1</th>\n",
       "      <td>2022-01-02</td>\n",
       "      <td>41920</td>\n",
       "    </tr>\n",
       "    <tr>\n",
       "      <th>2</th>\n",
       "      <td>2022-01-03</td>\n",
       "      <td>32309</td>\n",
       "    </tr>\n",
       "    <tr>\n",
       "      <th>3</th>\n",
       "      <td>2022-01-04</td>\n",
       "      <td>35935</td>\n",
       "    </tr>\n",
       "    <tr>\n",
       "      <th>4</th>\n",
       "      <td>2022-01-05</td>\n",
       "      <td>33411</td>\n",
       "    </tr>\n",
       "  </tbody>\n",
       "</table>\n",
       "</div>"
      ],
      "text/plain": [
       "        date  ride_id\n",
       "0 2022-01-01    19905\n",
       "1 2022-01-02    41920\n",
       "2 2022-01-03    32309\n",
       "3 2022-01-04    35935\n",
       "4 2022-01-05    33411"
      ]
     },
     "execution_count": 23,
     "metadata": {},
     "output_type": "execute_result"
    }
   ],
   "source": [
    "df_group.head()"
   ]
  },
  {
   "cell_type": "code",
   "execution_count": 24,
   "id": "92109028-241b-4ea4-9261-f0f128d27f43",
   "metadata": {},
   "outputs": [
    {
     "name": "stdout",
     "output_type": "stream",
     "text": [
      "merge_flag\n",
      "both          11999379\n",
      "left_only            0\n",
      "right_only           0\n",
      "Name: count, dtype: int64\n",
      "Shape of January 1st is (19905, 18)\n",
      "Shape of January 2nd is (41920, 18)\n",
      "Index(['ride_id', 'rideable_type', 'started_at', 'ended_at',\n",
      "       'start_station_name', 'start_station_id', 'end_station_name',\n",
      "       'end_station_id', 'start_lat', 'start_lng', 'end_lat', 'end_lng',\n",
      "       'member_casual', 'avgTemp', 'value', 'bike_rides_daily', 'merge_flag'],\n",
      "      dtype='object')\n"
     ]
    }
   ],
   "source": [
    "df_group.rename(columns = {'ride_id':'bike_rides_daily'}, inplace = True)\n",
    "df = df.merge(df_group, on = \"date\", how = 'outer', indicator = 'merge_flag')\n",
    "print(df['merge_flag'].value_counts(dropna = False))\n",
    "print(\"Shape of January 1st is\", df[df['date'] == '2022-01-01'].shape) # Check \n",
    "print(\"Shape of January 2nd is\", df[df['date'] == '2022-01-02'].shape) # Second check \n",
    "\n",
    "df_temp = df.set_index('date')\n",
    "\n",
    "print(df_temp.columns)"
   ]
  },
  {
   "cell_type": "code",
   "execution_count": 25,
   "id": "106aa202-e1df-46de-ab22-5e4ad25ea9bc",
   "metadata": {},
   "outputs": [
    {
     "data": {
      "image/png": "[encoded data removed]",
      "text/plain": [
       "<Figure size 1000x500 with 2 Axes>"
      ]
     },
     "metadata": {},
     "output_type": "display_data"
    }
   ],
   "source": [
    "fig,ax = plt.subplots(figsize=(10, 5))\n",
    "sns.lineplot(data = df_temp['bike_rides_daily'], color = \"b\")\n",
    "ax.set_xlabel(\"Year 2022\", fontsize = 14) # set x-axis label\n",
    "ax.set_ylabel(\"Bike rides daily\", color = \"navy\", fontsize = 14) # set y-axis label\n",
    "ax2 = ax.twinx()\n",
    "sns.lineplot(data = df_temp['avgTemp'], color=\"r\", ax=ax2)\n",
    "ax2.set_ylabel(\"Average temperatures\", color = \"red\",fontsize=14)\n",
    "plt.title('Temperature and trips in 2022', fontsize = 18)\n",
    "plt.show()"
   ]
  },
  {
   "cell_type": "markdown",
   "id": "c7f726bd-e233-46d7-801d-8342b551f12b",
   "metadata": {},
   "source": [
    "# Box plots"
   ]
  },
  {
   "cell_type": "code",
   "execution_count": 27,
   "id": "c6a42c0a-9475-4f52-aa83-4e2e4acc8342",
   "metadata": {},
   "outputs": [
    {
     "data": {
      "text/plain": [
       "0            classic_bike\n",
       "1            classic_bike\n",
       "2            classic_bike\n",
       "3            classic_bike\n",
       "4            classic_bike\n",
       "                ...      \n",
       "11999374    electric_bike\n",
       "11999375     classic_bike\n",
       "11999376    electric_bike\n",
       "11999377    electric_bike\n",
       "11999378     classic_bike\n",
       "Name: rideable_type, Length: 11999379, dtype: object"
      ]
     },
     "execution_count": 27,
     "metadata": {},
     "output_type": "execute_result"
    }
   ],
   "source": [
    "df['rideable_type']"
   ]
  },
  {
   "cell_type": "code",
   "execution_count": 28,
   "id": "3a057b49-55e2-4044-94e8-ecb45d3f84f9",
   "metadata": {},
   "outputs": [
    {
     "name": "stdout",
     "output_type": "stream",
     "text": [
      "rideable_type\n",
      "classic_bike     7067547\n",
      "electric_bike    4931832\n",
      "Name: count, dtype: int64\n"
     ]
    }
   ],
   "source": [
    "counts = df['rideable_type'].value_counts()\n",
    "\n",
    "print(counts)"
   ]
  },
  {
   "cell_type": "code",
   "execution_count": 29,
   "id": "db0dc6ca-f671-4637-9e35-98645e03fd6d",
   "metadata": {},
   "outputs": [
    {
     "name": "stderr",
     "output_type": "stream",
     "text": [
      "C:\\Users\\User\\AppData\\Local\\Temp\\ipykernel_2608\\990264754.py:2: FutureWarning: \n",
      "\n",
      "Passing `palette` without assigning `hue` is deprecated and will be removed in v0.14.0. Assign the `x` variable to `hue` and set `legend=False` for the same effect.\n",
      "\n",
      "  sns.boxplot(x = 'rideable_type', y = 'avgTemp', data = df, palette = {'classic_bike': 'royalblue', 'electric_bike': 'orange'})\n"
     ]
    },
    {
     "data": {
      "image/png": "[encoded data removed]",
      "text/plain": [
       "<Figure size 900x500 with 1 Axes>"
      ]
     },
     "metadata": {},
     "output_type": "display_data"
    }
   ],
   "source": [
    "plt.figure(figsize=(9,5))\n",
    "sns.boxplot(x = 'rideable_type', y = 'avgTemp', data = df, palette = {'classic_bike': 'royalblue', 'electric_bike': 'orange'})\n",
    "plt.show()"
   ]
  },
  {
   "cell_type": "markdown",
   "id": "9e8b93de-716e-4e6b-8d06-737e45e75234",
   "metadata": {},
   "source": [
    "### Based on this boxplot, we can observe a clear relationship between temperature and the type of bike people prefer. When the temperature is lower, there is a tendency for riders to choose electric bikes more frequently. This could be because electric bikes require less physical effort, making them more comfortable in colder weather when riders may want to minimize exertion and stay warmer.\n",
    "\n",
    "### Conversely, as temperatures rise, there is an increase in the use of classic bikes. Warmer weather likely makes riding a classic bike more enjoyable and less strenuous, encouraging riders to opt for a more active and traditional biking experience. This pattern suggests that temperature influences rider preferences, possibly due to comfort, effort level, and the desire for a more leisurely or exercise-focused ride when the weather is pleasant.\n",
    "\n",
    "### Overall, this insight can help bike-sharing services anticipate demand for different bike types across seasons and adjust fleet availability accordingly."
   ]
  },
  {
   "cell_type": "markdown",
   "id": "ed2b03e2-dfca-4da4-a95d-41a88bd8354d",
   "metadata": {},
   "source": [
    "# FacetGrids"
   ]
  },
  {
   "cell_type": "markdown",
   "id": "ff2ef553-6770-4636-9350-e70aba9ca183",
   "metadata": {},
   "source": [
    "### By using FacetGrids, I will analyze the relationship between bike types and the Top 10 ride durations. This approach allows me to visualize how different types of bikes are used for varying lengths of trips, making it easier to identify patterns and preferences across the dataset."
   ]
  },
  {
   "cell_type": "code",
   "execution_count": 33,
   "id": "662d747e-9e56-466b-89a8-e4b8cad1b523",
   "metadata": {},
   "outputs": [],
   "source": [
    "# Convert the strings to datetime\n",
    "df['started_at'] = pd.to_datetime(df['started_at'])\n",
    "df['ended_at'] = pd.to_datetime(df['ended_at'])"
   ]
  },
  {
   "cell_type": "code",
   "execution_count": 34,
   "id": "a8f5529f-4feb-4986-8b8e-b3297f2c4b42",
   "metadata": {},
   "outputs": [
    {
     "data": {
      "text/plain": [
       "ride_id                       object\n",
       "rideable_type                 object\n",
       "started_at            datetime64[ns]\n",
       "ended_at              datetime64[ns]\n",
       "start_station_name            object\n",
       "start_station_id              object\n",
       "end_station_name              object\n",
       "end_station_id                object\n",
       "start_lat                    float64\n",
       "start_lng                    float64\n",
       "end_lat                      float64\n",
       "end_lng                      float64\n",
       "member_casual                 object\n",
       "date                  datetime64[ns]\n",
       "avgTemp                      float64\n",
       "value                          int64\n",
       "bike_rides_daily               int64\n",
       "merge_flag                  category\n",
       "dtype: object"
      ]
     },
     "execution_count": 34,
     "metadata": {},
     "output_type": "execute_result"
    }
   ],
   "source": [
    "df.dtypes"
   ]
  },
  {
   "cell_type": "code",
   "execution_count": 35,
   "id": "4a6de3d5-6485-425a-863a-14612d71c3aa",
   "metadata": {},
   "outputs": [],
   "source": [
    "# Calculate ride duration (in minutes)\n",
    "df['ride_duration'] = (df['ended_at'] - df['started_at']).dt.total_seconds() / 60"
   ]
  },
  {
   "cell_type": "code",
   "execution_count": 36,
   "id": "7be80e4f-50aa-4a7e-b7b9-1bfa3c766534",
   "metadata": {},
   "outputs": [],
   "source": [
    "# Categorize rides into groups\n",
    "def categorize_duration(duration):\n",
    "    if duration < 5:\n",
    "        return 'Less than 5 min'\n",
    "    elif 5 <= duration <= 10:\n",
    "        return '5 to 10 min'\n",
    "    else:\n",
    "        return 'Over 10 min'\n",
    "\n",
    "df['duration_category'] = df['ride_duration'].apply(categorize_duration)"
   ]
  },
  {
   "cell_type": "code",
   "execution_count": 37,
   "id": "7f0e129b-2f4a-43b8-9afe-e8c882f12f49",
   "metadata": {},
   "outputs": [
    {
     "name": "stdout",
     "output_type": "stream",
     "text": [
      "                      started_at                ended_at  ride_duration  \\\n",
      "0        2022-01-01 16:01:22.082 2022-01-01 16:05:11.986       3.831733   \n",
      "1        2022-01-01 14:07:04.344 2022-01-01 14:31:57.500      24.885933   \n",
      "2        2022-01-01 12:02:26.943 2022-01-01 12:14:13.555      11.776867   \n",
      "3        2022-01-01 22:53:23.508 2022-01-01 23:18:42.881      25.322883   \n",
      "4        2022-01-01 08:04:51.755 2022-01-01 08:08:07.290       3.258917   \n",
      "...                          ...                     ...            ...   \n",
      "11999374 2022-12-31 09:35:24.597 2022-12-31 09:39:31.409       4.113533   \n",
      "11999375 2022-12-31 14:52:14.013 2022-12-31 14:54:49.607       2.593233   \n",
      "11999376 2022-12-31 18:43:08.788 2022-12-31 19:10:20.978      27.203167   \n",
      "11999377 2022-12-31 19:48:21.182 2022-12-31 19:50:22.154       2.016200   \n",
      "11999378 2022-12-31 18:13:19.297 2022-12-31 18:19:11.314       5.866950   \n",
      "\n",
      "         duration_category  \n",
      "0          Less than 5 min  \n",
      "1              Over 10 min  \n",
      "2              Over 10 min  \n",
      "3              Over 10 min  \n",
      "4          Less than 5 min  \n",
      "...                    ...  \n",
      "11999374   Less than 5 min  \n",
      "11999375   Less than 5 min  \n",
      "11999376       Over 10 min  \n",
      "11999377   Less than 5 min  \n",
      "11999378       5 to 10 min  \n",
      "\n",
      "[11999379 rows x 4 columns]\n"
     ]
    }
   ],
   "source": [
    "# Check result\n",
    "print(df[['started_at', 'ended_at', 'ride_duration', 'duration_category']])"
   ]
  },
  {
   "cell_type": "code",
   "execution_count": 38,
   "id": "92291904-4e56-4c14-b707-ffca79bd68ba",
   "metadata": {},
   "outputs": [
    {
     "name": "stdout",
     "output_type": "stream",
     "text": [
      "duration_category\n",
      "Over 10 min        5930426\n",
      "5 to 10 min        3622205\n",
      "Less than 5 min    2446748\n",
      "Name: count, dtype: int64\n"
     ]
    }
   ],
   "source": [
    "# Count rides in each category\n",
    "category_counts = df['duration_category'].value_counts()\n",
    "print(category_counts)"
   ]
  },
  {
   "cell_type": "code",
   "execution_count": 39,
   "id": "d2691422-631c-4b1f-8efd-6586384d15b4",
   "metadata": {},
   "outputs": [],
   "source": [
    "# round decimals to nearest whole number\n",
    "df['ride_duration'] = df['ride_duration'].round(0).astype(int)"
   ]
  },
  {
   "cell_type": "code",
   "execution_count": 41,
   "id": "e91674c6-17b0-4c77-8b7e-64da94b47a7e",
   "metadata": {},
   "outputs": [
    {
     "data": {
      "text/html": [
       "<div>\n",
       "<style scoped>\n",
       "    .dataframe tbody tr th:only-of-type {\n",
       "        vertical-align: middle;\n",
       "    }\n",
       "\n",
       "    .dataframe tbody tr th {\n",
       "        vertical-align: top;\n",
       "    }\n",
       "\n",
       "    .dataframe thead th {\n",
       "        text-align: right;\n",
       "    }\n",
       "</style>\n",
       "<table border=\"1\" class=\"dataframe\">\n",
       "  <thead>\n",
       "    <tr style=\"text-align: right;\">\n",
       "      <th></th>\n",
       "      <th>ride_id</th>\n",
       "      <th>rideable_type</th>\n",
       "      <th>started_at</th>\n",
       "      <th>ended_at</th>\n",
       "      <th>start_station_name</th>\n",
       "      <th>start_station_id</th>\n",
       "      <th>end_station_name</th>\n",
       "      <th>end_station_id</th>\n",
       "      <th>start_lat</th>\n",
       "      <th>start_lng</th>\n",
       "      <th>end_lat</th>\n",
       "      <th>end_lng</th>\n",
       "      <th>member_casual</th>\n",
       "      <th>date</th>\n",
       "      <th>avgTemp</th>\n",
       "      <th>value</th>\n",
       "      <th>bike_rides_daily</th>\n",
       "      <th>merge_flag</th>\n",
       "      <th>ride_duration</th>\n",
       "      <th>duration_category</th>\n",
       "    </tr>\n",
       "  </thead>\n",
       "  <tbody>\n",
       "    <tr>\n",
       "      <th>0</th>\n",
       "      <td>4A091640AEC83471</td>\n",
       "      <td>classic_bike</td>\n",
       "      <td>2022-01-01 16:01:22.082</td>\n",
       "      <td>2022-01-01 16:05:11.986</td>\n",
       "      <td>S 4 St &amp; Wythe Ave</td>\n",
       "      <td>5204.05</td>\n",
       "      <td>Kent Ave &amp; S 11 St</td>\n",
       "      <td>5062.01</td>\n",
       "      <td>40.712859</td>\n",
       "      <td>-73.965903</td>\n",
       "      <td>40.707645</td>\n",
       "      <td>-73.968415</td>\n",
       "      <td>member</td>\n",
       "      <td>2022-01-01</td>\n",
       "      <td>11.6</td>\n",
       "      <td>1</td>\n",
       "      <td>19905</td>\n",
       "      <td>both</td>\n",
       "      <td>4</td>\n",
       "      <td>Less than 5 min</td>\n",
       "    </tr>\n",
       "    <tr>\n",
       "      <th>1</th>\n",
       "      <td>7A560D6287C00126</td>\n",
       "      <td>classic_bike</td>\n",
       "      <td>2022-01-01 14:07:04.344</td>\n",
       "      <td>2022-01-01 14:31:57.500</td>\n",
       "      <td>Lexington Ave &amp; E 120 St</td>\n",
       "      <td>7652.04</td>\n",
       "      <td>Amsterdam Ave &amp; W 125 St</td>\n",
       "      <td>7800.03</td>\n",
       "      <td>40.801307</td>\n",
       "      <td>-73.939817</td>\n",
       "      <td>40.813358</td>\n",
       "      <td>-73.956461</td>\n",
       "      <td>member</td>\n",
       "      <td>2022-01-01</td>\n",
       "      <td>11.6</td>\n",
       "      <td>1</td>\n",
       "      <td>19905</td>\n",
       "      <td>both</td>\n",
       "      <td>25</td>\n",
       "      <td>Over 10 min</td>\n",
       "    </tr>\n",
       "    <tr>\n",
       "      <th>2</th>\n",
       "      <td>4F6F726B809C15E4</td>\n",
       "      <td>classic_bike</td>\n",
       "      <td>2022-01-01 12:02:26.943</td>\n",
       "      <td>2022-01-01 12:14:13.555</td>\n",
       "      <td>Lexington Ave &amp; E 120 St</td>\n",
       "      <td>7652.04</td>\n",
       "      <td>Amsterdam Ave &amp; W 125 St</td>\n",
       "      <td>7800.03</td>\n",
       "      <td>40.801307</td>\n",
       "      <td>-73.939817</td>\n",
       "      <td>40.813358</td>\n",
       "      <td>-73.956461</td>\n",
       "      <td>member</td>\n",
       "      <td>2022-01-01</td>\n",
       "      <td>11.6</td>\n",
       "      <td>1</td>\n",
       "      <td>19905</td>\n",
       "      <td>both</td>\n",
       "      <td>12</td>\n",
       "      <td>Over 10 min</td>\n",
       "    </tr>\n",
       "    <tr>\n",
       "      <th>3</th>\n",
       "      <td>3BC10DC94FD79955</td>\n",
       "      <td>classic_bike</td>\n",
       "      <td>2022-01-01 22:53:23.508</td>\n",
       "      <td>2022-01-01 23:18:42.881</td>\n",
       "      <td>Cleveland Pl &amp; Spring St</td>\n",
       "      <td>5492.05</td>\n",
       "      <td>Mott St &amp; Prince St</td>\n",
       "      <td>5561.04</td>\n",
       "      <td>40.722104</td>\n",
       "      <td>-73.997249</td>\n",
       "      <td>40.723180</td>\n",
       "      <td>-73.994800</td>\n",
       "      <td>member</td>\n",
       "      <td>2022-01-01</td>\n",
       "      <td>11.6</td>\n",
       "      <td>1</td>\n",
       "      <td>19905</td>\n",
       "      <td>both</td>\n",
       "      <td>25</td>\n",
       "      <td>Over 10 min</td>\n",
       "    </tr>\n",
       "    <tr>\n",
       "      <th>4</th>\n",
       "      <td>FE4CE7F1CFFD7952</td>\n",
       "      <td>classic_bike</td>\n",
       "      <td>2022-01-01 08:04:51.755</td>\n",
       "      <td>2022-01-01 08:08:07.290</td>\n",
       "      <td>Central Park North &amp; Adam Clayton Powell Blvd</td>\n",
       "      <td>7617.07</td>\n",
       "      <td>E 110 St &amp; Madison Ave</td>\n",
       "      <td>7587.14</td>\n",
       "      <td>40.799484</td>\n",
       "      <td>-73.955613</td>\n",
       "      <td>40.796154</td>\n",
       "      <td>-73.947821</td>\n",
       "      <td>member</td>\n",
       "      <td>2022-01-01</td>\n",
       "      <td>11.6</td>\n",
       "      <td>1</td>\n",
       "      <td>19905</td>\n",
       "      <td>both</td>\n",
       "      <td>3</td>\n",
       "      <td>Less than 5 min</td>\n",
       "    </tr>\n",
       "  </tbody>\n",
       "</table>\n",
       "</div>"
      ],
      "text/plain": [
       "            ride_id rideable_type              started_at  \\\n",
       "0  4A091640AEC83471  classic_bike 2022-01-01 16:01:22.082   \n",
       "1  7A560D6287C00126  classic_bike 2022-01-01 14:07:04.344   \n",
       "2  4F6F726B809C15E4  classic_bike 2022-01-01 12:02:26.943   \n",
       "3  3BC10DC94FD79955  classic_bike 2022-01-01 22:53:23.508   \n",
       "4  FE4CE7F1CFFD7952  classic_bike 2022-01-01 08:04:51.755   \n",
       "\n",
       "                 ended_at                             start_station_name  \\\n",
       "0 2022-01-01 16:05:11.986                             S 4 St & Wythe Ave   \n",
       "1 2022-01-01 14:31:57.500                       Lexington Ave & E 120 St   \n",
       "2 2022-01-01 12:14:13.555                       Lexington Ave & E 120 St   \n",
       "3 2022-01-01 23:18:42.881                       Cleveland Pl & Spring St   \n",
       "4 2022-01-01 08:08:07.290  Central Park North & Adam Clayton Powell Blvd   \n",
       "\n",
       "  start_station_id          end_station_name end_station_id  start_lat  \\\n",
       "0          5204.05        Kent Ave & S 11 St        5062.01  40.712859   \n",
       "1          7652.04  Amsterdam Ave & W 125 St        7800.03  40.801307   \n",
       "2          7652.04  Amsterdam Ave & W 125 St        7800.03  40.801307   \n",
       "3          5492.05       Mott St & Prince St        5561.04  40.722104   \n",
       "4          7617.07    E 110 St & Madison Ave        7587.14  40.799484   \n",
       "\n",
       "   start_lng    end_lat    end_lng member_casual       date  avgTemp  value  \\\n",
       "0 -73.965903  40.707645 -73.968415        member 2022-01-01     11.6      1   \n",
       "1 -73.939817  40.813358 -73.956461        member 2022-01-01     11.6      1   \n",
       "2 -73.939817  40.813358 -73.956461        member 2022-01-01     11.6      1   \n",
       "3 -73.997249  40.723180 -73.994800        member 2022-01-01     11.6      1   \n",
       "4 -73.955613  40.796154 -73.947821        member 2022-01-01     11.6      1   \n",
       "\n",
       "   bike_rides_daily merge_flag  ride_duration duration_category  \n",
       "0             19905       both              4   Less than 5 min  \n",
       "1             19905       both             25       Over 10 min  \n",
       "2             19905       both             12       Over 10 min  \n",
       "3             19905       both             25       Over 10 min  \n",
       "4             19905       both              3   Less than 5 min  "
      ]
     },
     "execution_count": 41,
     "metadata": {},
     "output_type": "execute_result"
    }
   ],
   "source": [
    "df.head()"
   ]
  },
  {
   "cell_type": "code",
   "execution_count": 76,
   "id": "d522e6f3-b501-442a-aa39-169ef8e70774",
   "metadata": {},
   "outputs": [
    {
     "name": "stdout",
     "output_type": "stream",
     "text": [
      "ride_duration\n",
      "5        817375\n",
      "6        806550\n",
      "4        769892\n",
      "7        762273\n",
      "8        704568\n",
      "          ...  \n",
      "4564          1\n",
      "1511          1\n",
      "1892          1\n",
      "29000         1\n",
      "5589          1\n",
      "Name: count, Length: 2311, dtype: int64\n"
     ]
    }
   ],
   "source": [
    "# Count rides in each category\n",
    "category_counts = df['ride_duration'].value_counts()\n",
    "print(category_counts)"
   ]
  },
  {
   "cell_type": "code",
   "execution_count": 78,
   "id": "7719c959-1976-4dd3-8543-4d98b7a0b1f7",
   "metadata": {},
   "outputs": [],
   "source": [
    "counts = df['ride_duration'].value_counts()"
   ]
  },
  {
   "cell_type": "code",
   "execution_count": 80,
   "id": "d067a1b3-a80a-4611-bc95-d51c758e0901",
   "metadata": {},
   "outputs": [],
   "source": [
    "top_10_durations = counts.head(10)"
   ]
  },
  {
   "cell_type": "code",
   "execution_count": 82,
   "id": "bc16fe16-017d-472b-9f93-bbca4784704f",
   "metadata": {},
   "outputs": [
    {
     "name": "stdout",
     "output_type": "stream",
     "text": [
      "ride_duration\n",
      "5     817375\n",
      "6     806550\n",
      "4     769892\n",
      "7     762273\n",
      "8     704568\n",
      "3     653170\n",
      "9     640949\n",
      "10    579451\n",
      "11    520370\n",
      "12    464002\n",
      "Name: count, dtype: int64\n"
     ]
    }
   ],
   "source": [
    "print(top_10_durations)"
   ]
  },
  {
   "cell_type": "code",
   "execution_count": 86,
   "id": "977a1133-6ed4-4ebe-bc8e-c08f11e39100",
   "metadata": {},
   "outputs": [
    {
     "data": {
      "image/png": "[encoded data removed]",
      "text/plain": [
       "<Figure size 800x400 with 2 Axes>"
      ]
     },
     "metadata": {},
     "output_type": "display_data"
    }
   ],
   "source": [
    "top_10 = df['ride_duration'].value_counts().nlargest(10).index\n",
    "df_top10 = df[df['ride_duration'].isin(top_10)]\n",
    "g = sns.FacetGrid(df_top10, col=\"rideable_type\", col_wrap=2, height=4)\n",
    "g.map_dataframe(sns.histplot, x=\"ride_duration\", bins=10, kde=False)\n",
    "g.set_axis_labels(\"Ride Duration\", \"Count\")\n",
    "g.set_titles(col_template=\"{col_name}\")\n",
    "\n",
    "plt.tight_layout()\n",
    "plt.show()"
   ]
  },
  {
   "cell_type": "markdown",
   "id": "45ae0959-4b49-4cbb-b246-c0cf49ac55b8",
   "metadata": {},
   "source": [
    "## Shape of distribution\n",
    "* Both types have a roughly bell-like distribution within the filtered top 10 durations.\n",
    "\n",
    "* This means that for both classic and electric bikes, most rides cluster around mid-range durations around 5–7 minutes.\n",
    "\n",
    "## Counts\n",
    "* The counts are quite high, up to ~500,000 for classic bikes, slightly lower for electric bikes.\n",
    "\n",
    "* This suggests classic bikes might be used more frequently overall, or have more rides that fall into these top durations.\n",
    "\n",
    "## Differences between bike types\n",
    "* Classic bikes: Slightly higher counts, with a similar spread of durations.\n",
    "\n",
    "* Electric bikes: Fewer rides in total (in this top-10-duration window), but the shape is very similar.\n",
    "\n",
    "This suggests that riders of both bike types tend to have similar preferred ride lengths."
   ]
  },
  {
   "cell_type": "code",
   "execution_count": null,
   "id": "7f46b74d-487d-4b8c-b4e0-13e18593f7b4",
   "metadata": {},
   "outputs": [],
   "source": []
  }
 ],
 "metadata": {
  "kernelspec": {
   "display_name": "Python [conda env:NYCBT22]",
   "language": "python",
   "name": "conda-env-NYCBT22-py"
  },
  "language_info": {
   "codemirror_mode": {
    "name": "ipython",
    "version": 3
   },
   "file_extension": ".py",
   "mimetype": "text/x-python",
   "name": "python",
   "nbconvert_exporter": "python",
   "pygments_lexer": "ipython3",
   "version": "3.10.18"
  }
 },
 "nbformat": 4,
 "nbformat_minor": 5
}
